{
 "cells": [
  {
   "cell_type": "markdown",
   "metadata": {},
   "source": [
    "# Leaflet cluster map of talk locations\n",
    "\n",
    "Run this from the _talks/ directory, which contains .md files of all your talks. This scrapes the location YAML field from each .md file, geolocates it with geopy/Nominatim, and uses the getorg library to output data, HTML, and Javascript for a standalone cluster map."
   ]
  },
  {
   "cell_type": "code",
   "execution_count": 2,
   "metadata": {},
   "outputs": [
    {
     "name": "stdout",
     "output_type": "stream",
     "text": [
      "Defaulting to user installation because normal site-packages is not writeable\n",
      "Requirement already satisfied: getorg in /home/manu/.local/lib/python3.10/site-packages (0.3.1)\n",
      "Requirement already satisfied: geopy in /home/manu/.local/lib/python3.10/site-packages (from getorg) (2.3.0)\n",
      "Requirement already satisfied: retrying in /home/manu/.local/lib/python3.10/site-packages (from getorg) (1.3.4)\n",
      "Requirement already satisfied: pygithub in /home/manu/.local/lib/python3.10/site-packages (from getorg) (1.58.1)\n",
      "Requirement already satisfied: geographiclib<3,>=1.52 in /home/manu/.local/lib/python3.10/site-packages (from geopy->getorg) (2.0)\n",
      "Requirement already satisfied: requests>=2.14.0 in /usr/lib/python3/dist-packages (from pygithub->getorg) (2.25.1)\n",
      "Requirement already satisfied: pyjwt[crypto]>=2.4.0 in /home/manu/.local/lib/python3.10/site-packages (from pygithub->getorg) (2.6.0)\n",
      "Requirement already satisfied: deprecated in /home/manu/.local/lib/python3.10/site-packages (from pygithub->getorg) (1.2.13)\n",
      "Requirement already satisfied: pynacl>=1.4.0 in /usr/lib/python3/dist-packages (from pygithub->getorg) (1.5.0)\n",
      "Requirement already satisfied: six>=1.7.0 in /usr/lib/python3/dist-packages (from retrying->getorg) (1.16.0)\n",
      "Requirement already satisfied: cryptography>=3.4.0 in /usr/lib/python3/dist-packages (from pyjwt[crypto]>=2.4.0->pygithub->getorg) (3.4.8)\n",
      "Requirement already satisfied: cffi>=1.4.1 in /home/manu/.local/lib/python3.10/site-packages (from pynacl>=1.4.0->pygithub->getorg) (1.15.0)\n",
      "Requirement already satisfied: wrapt<2,>=1.10 in /home/manu/.local/lib/python3.10/site-packages (from deprecated->pygithub->getorg) (1.14.1)\n",
      "Requirement already satisfied: pycparser in /home/manu/.local/lib/python3.10/site-packages (from cffi>=1.4.1->pynacl>=1.4.0->pygithub->getorg) (2.21)\n",
      "IPywidgets and ipyleaflet support enabled.\n"
     ]
    }
   ],
   "source": [
    "!pip install getorg --upgrade\n",
    "import glob\n",
    "import getorg\n",
    "from geopy import Nominatim"
   ]
  },
  {
   "cell_type": "code",
   "execution_count": 3,
   "metadata": {},
   "outputs": [
    {
     "name": "stdout",
     "output_type": "stream",
     "text": [
      "['posterVQ.md']\n"
     ]
    }
   ],
   "source": [
    "g = glob.glob(\"*.md\")\n",
    "print(g)"
   ]
  },
  {
   "cell_type": "code",
   "execution_count": 4,
   "metadata": {},
   "outputs": [],
   "source": [
    "geocoder = Nominatim(user_agent='frion.emmanuel@gmail.com')\n",
    "location_dict = {}\n",
    "location = \"\"\n",
    "permalink = \"\"\n",
    "title = \"\""
   ]
  },
  {
   "cell_type": "code",
   "execution_count": 5,
   "metadata": {},
   "outputs": [
    {
     "name": "stdout",
     "output_type": "stream",
     "text": [
      "Anchieta, Brazil \n",
      " Anchieta, Região Geográfica Imediata de Vitória, Região Geográfica Intermediária de Vitória, Espírito Santo, Região Sudeste, Brasil\n"
     ]
    }
   ],
   "source": [
    "\n",
    "for file in g:\n",
    "    with open(file, 'r') as f:\n",
    "        lines = f.read()\n",
    "        if lines.find('location: \"') > 1:\n",
    "            loc_start = lines.find('location: \"') + 11\n",
    "            lines_trim = lines[loc_start:]\n",
    "            loc_end = lines_trim.find('\"')\n",
    "            location = lines_trim[:loc_end]\n",
    "                            \n",
    "           \n",
    "        location_dict[location] = geocoder.geocode(location)\n",
    "        print(location, \"\\n\", location_dict[location])\n"
   ]
  },
  {
   "cell_type": "code",
   "execution_count": 6,
   "metadata": {},
   "outputs": [
    {
     "data": {
      "text/plain": [
       "'Written map to ../talkmap/'"
      ]
     },
     "execution_count": 6,
     "metadata": {},
     "output_type": "execute_result"
    }
   ],
   "source": [
    "m = getorg.orgmap.create_map_obj()\n",
    "getorg.orgmap.output_html_cluster_map(location_dict, folder_name=\"../talkmap\", hashed_usernames=False)"
   ]
  },
  {
   "cell_type": "code",
   "execution_count": null,
   "metadata": {
    "collapsed": true
   },
   "outputs": [],
   "source": []
  }
 ],
 "metadata": {
  "anaconda-cloud": {},
  "kernelspec": {
   "display_name": "Python 3 (ipykernel)",
   "language": "python",
   "name": "python3"
  },
  "language_info": {
   "codemirror_mode": {
    "name": "ipython",
    "version": 3
   },
   "file_extension": ".py",
   "mimetype": "text/x-python",
   "name": "python",
   "nbconvert_exporter": "python",
   "pygments_lexer": "ipython3",
   "version": "3.10.6"
  }
 },
 "nbformat": 4,
 "nbformat_minor": 1
}
